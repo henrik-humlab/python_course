{
 "cells": [
  {
   "cell_type": "markdown",
   "metadata": {
    "slideshow": {
     "slide_type": "slide"
    }
   },
   "source": [
    "# Lecture notes from first week\n",
    "Programming for the Behavioral Sciences"
   ]
  },
  {
   "cell_type": "markdown",
   "metadata": {
    "collapsed": true
   },
   "source": [
    "There are many good places to get more information and examples, e.g.,\n",
    "http://nbviewer.jupyter.org/github/jrjohansson/scientific-python-lectures/blob/master/Lecture-1-Introduction-to-Python-Programming.ipynb\n",
    "\n"
   ]
  },
  {
   "cell_type": "markdown",
   "metadata": {},
   "source": [
    "### Variables and data types\n",
    "A variable is used to store information. It can be \n",
    "thought of as a 'container' used to refer to label and \n",
    "refer to information while programming"
   ]
  },
  {
   "cell_type": "code",
   "execution_count": 16,
   "metadata": {
    "collapsed": false
   },
   "outputs": [],
   "source": [
    "# Variables x, y, a, b, s\n",
    "x = 2\n",
    "y = 17.0\n",
    "a = [2, 3, 4] # A list of length 3\n",
    "b = True      # True or false\n",
    "s = 'hej'\n",
    "t = (2, 4) # A tuple. Like a list, but cannot be modified"
   ]
  },
  {
   "cell_type": "markdown",
   "metadata": {},
   "source": [
    "So, above we have variables of different types. What are these types and how are they different?\n",
    "You can read more about data types here:\n",
    "https://www.tutorialspoint.com/python/python_variable_types.htm"
   ]
  },
  {
   "cell_type": "code",
   "execution_count": 13,
   "metadata": {
    "collapsed": false
   },
   "outputs": [
    {
     "data": {
      "text/plain": [
       "(int, float, list, bool, str, tuple)"
      ]
     },
     "execution_count": 13,
     "metadata": {},
     "output_type": "execute_result"
    }
   ],
   "source": [
    "type(x), type(y), type(a), type(b), type(s), type(t)\n",
    "\n"
   ]
  },
  {
   "cell_type": "markdown",
   "metadata": {},
   "source": [
    "We can also use the 'magic command' whos to get information about all variables currently in use"
   ]
  },
  {
   "cell_type": "code",
   "execution_count": 22,
   "metadata": {
    "collapsed": false
   },
   "outputs": [
    {
     "name": "stdout",
     "output_type": "stream",
     "text": [
      "Variable   Type     Data/Info\n",
      "-----------------------------\n",
      "a          list     n=3\n",
      "b          bool     True\n",
      "s          str      hej\n",
      "t          tuple    n=2\n",
      "x          int      2\n",
      "y          float    17.0\n",
      "z          float    19.0\n"
     ]
    }
   ],
   "source": [
    "%whos"
   ]
  },
  {
   "cell_type": "markdown",
   "metadata": {},
   "source": [
    "## Variable operations"
   ]
  },
  {
   "cell_type": "markdown",
   "metadata": {},
   "source": [
    "Now lets try to use the above variables to understand what they do."
   ]
  },
  {
   "cell_type": "code",
   "execution_count": 20,
   "metadata": {
    "collapsed": false
   },
   "outputs": [
    {
     "name": "stdout",
     "output_type": "stream",
     "text": [
      "19.0\n"
     ]
    }
   ],
   "source": [
    "# Let's add two variable and print the result\n",
    "z = x + y\n",
    "print(z)"
   ]
  },
  {
   "cell_type": "markdown",
   "metadata": {},
   "source": [
    "The output is a float? Why? We added a integer and a float? If both are integers, the output will also be an integer. \n",
    "Let's consider this example:"
   ]
  },
  {
   "cell_type": "code",
   "execution_count": 26,
   "metadata": {
    "collapsed": false
   },
   "outputs": [
    {
     "name": "stdout",
     "output_type": "stream",
     "text": [
      "(2, 2.2)\n"
     ]
    }
   ],
   "source": [
    "z1 = 11 / 5   # dividing two integers\n",
    "z2 = 11 / 5.0 # dividing an integer with a float\n",
    "print(z1, z2)"
   ]
  },
  {
   "cell_type": "markdown",
   "metadata": {},
   "source": [
    "Dividing two integers will only return an integer. Common thing that may make cause a problem! Remember to make a least one of them a float."
   ]
  },
  {
   "cell_type": "markdown",
   "metadata": {},
   "source": [
    "Can we add other variable types as well?"
   ]
  },
  {
   "cell_type": "code",
   "execution_count": 31,
   "metadata": {
    "collapsed": false
   },
   "outputs": [
    {
     "data": {
      "text/plain": [
       "([2, 3, 4, 2, 3, 4], [2, 3, 4, 2, 3, 4, 2, 3, 4])"
      ]
     },
     "execution_count": 31,
     "metadata": {},
     "output_type": "execute_result"
    }
   ],
   "source": [
    "a + a,  a*3"
   ]
  },
  {
   "cell_type": "code",
   "execution_count": 32,
   "metadata": {
    "collapsed": false
   },
   "outputs": [
    {
     "ename": "TypeError",
     "evalue": "can only concatenate list (not \"tuple\") to list",
     "output_type": "error",
     "traceback": [
      "\u001b[0;31m---------------------------------------------------------------------------\u001b[0m",
      "\u001b[0;31mTypeError\u001b[0m                                 Traceback (most recent call last)",
      "\u001b[0;32m<ipython-input-32-5f2a412c6b04>\u001b[0m in \u001b[0;36m<module>\u001b[0;34m()\u001b[0m\n\u001b[0;32m----> 1\u001b[0;31m \u001b[0ma\u001b[0m \u001b[1;33m+\u001b[0m \u001b[0mt\u001b[0m\u001b[1;33m\u001b[0m\u001b[0m\n\u001b[0m",
      "\u001b[0;31mTypeError\u001b[0m: can only concatenate list (not \"tuple\") to list"
     ]
    }
   ],
   "source": [
    "# This will give you an error, since your trying to add a list a = [2, 3, 4] with a tuple t = (2, 4)\n",
    "a + t"
   ]
  },
  {
   "cell_type": "code",
   "execution_count": 36,
   "metadata": {
    "collapsed": false
   },
   "outputs": [
    {
     "name": "stdout",
     "output_type": "stream",
     "text": [
      "5\n",
      "(4, 2)\n"
     ]
    }
   ],
   "source": [
    "# Remember, Python starts to count from zero, x[0] refers the first element of x. x[-1] refers to the last element of x\n",
    "print(t[0] + a[1])\n",
    "print(t[-1], x)"
   ]
  },
  {
   "cell_type": "markdown",
   "metadata": {},
   "source": [
    "How can we use boolean variables then, and what do they mean?"
   ]
  },
  {
   "cell_type": "code",
   "execution_count": 42,
   "metadata": {
    "collapsed": false
   },
   "outputs": [
    {
     "name": "stdout",
     "output_type": "stream",
     "text": [
      "False\n",
      "True\n",
      "True\n",
      "False\n"
     ]
    }
   ],
   "source": [
    "# Is this true? Notice the double equal sign for comparisons\n",
    "print(1==2)\n",
    "print(7==7)\n",
    "print(b is True)\n",
    "print(b is not True)"
   ]
  },
  {
   "cell_type": "markdown",
   "metadata": {},
   "source": [
    "### Lists\n",
    "List a important and general data containers used heavily in Python. A list can contant pretty much any variable type. You can mix integers, floats, strings, and other lists."
   ]
  },
  {
   "cell_type": "code",
   "execution_count": 45,
   "metadata": {
    "collapsed": false
   },
   "outputs": [
    {
     "name": "stdout",
     "output_type": "stream",
     "text": [
      "(['a', 1], 2)\n"
     ]
    }
   ],
   "source": [
    "l = ['a']        # make a list containing one element (a string 'a')\n",
    "l.append(1)      # Append the integer 1 to the list\n",
    "print(l, len(l)) # Print the list and its length"
   ]
  },
  {
   "cell_type": "code",
   "execution_count": 48,
   "metadata": {
    "collapsed": false
   },
   "outputs": [
    {
     "name": "stdout",
     "output_type": "stream",
     "text": [
      "[0, 1, 2, 3, 4, 5, 6, 7, 8, 9, 10, 11, 12, 13, 14, 15, 16, 17, 18, 19]\n",
      "[10, 12, 14, 16, 18]\n",
      "hej\n",
      "['h', 'e', 'j']\n"
     ]
    }
   ],
   "source": [
    "another_list = range(20) # Make a list with 20 elements from 0 to 19\n",
    "\n",
    "# Make a denser list\n",
    "start = 10\n",
    "stop = 20\n",
    "step = 2\n",
    "another_list_subsamples = range(start, stop, step)\n",
    "\n",
    "# Convert a string to a list\n",
    "s = ''\n",
    "string_converted_to_list = list(s)\n",
    "\n",
    "# Print all the above in the cell\n",
    "print(another_list)\n",
    "print(another_list_subsamples)\n",
    "print(s)\n",
    "print(string_converted_to_list)\n"
   ]
  },
  {
   "cell_type": "markdown",
   "metadata": {},
   "source": [
    "### Strings\n",
    "Strings are used to deal with text and letters. \n",
    "More info here\n",
    "https://www.tutorialspoint.com/python/python_strings.htm"
   ]
  },
  {
   "cell_type": "code",
   "execution_count": 52,
   "metadata": {
    "collapsed": false
   },
   "outputs": [
    {
     "name": "stdout",
     "output_type": "stream",
     "text": [
      "('hi there', 'hi,there,!')\n"
     ]
    }
   ],
   "source": [
    "# We have an example string defined above s = 'hi'. Let's defind another one s2 = 'there'\n",
    "s0 = 'hi' # You can use both single (') and double (\") quotation marks to define string\n",
    "s1 = 'there'\n",
    "\n",
    "sentence0 = ' '.join([s0, s1]) # join the two strings with a space\n",
    "sentence1 = ','.join([s0, s1, '!']) # join the two strings with a comma (,)\n",
    "\n",
    "# Print the output\n",
    "print(sentence0, sentence1)"
   ]
  },
  {
   "cell_type": "markdown",
   "metadata": {},
   "source": [
    "### Numpy arrays\n",
    "Arrays are data containers for numbers. <a href=\"http://www.numpy.org/\">NumPy</a> (numerical python) is a package for dealing with numbers and arrays. It's not part of \"core\" Python, so to use it, we have to start by importing it."
   ]
  },
  {
   "cell_type": "code",
   "execution_count": 53,
   "metadata": {
    "collapsed": true
   },
   "outputs": [],
   "source": [
    "import numpy as np # Import numpy. Now we can use the Numpy functionalities by its abbriviated name np (this choice is arbitrary)"
   ]
  },
  {
   "cell_type": "code",
   "execution_count": 57,
   "metadata": {
    "collapsed": false
   },
   "outputs": [
    {
     "name": "stdout",
     "output_type": "stream",
     "text": [
      "([1, 2, 3, 4, 5, 6], <type 'list'>, <type 'list'>)\n"
     ]
    }
   ],
   "source": [
    "# Start by defining some numbers to work with\n",
    "a0 = [1,2,3]\n",
    "a1 = [4,5,6]\n",
    "\n",
    "# What would you expect if you added a + b\n",
    "c = a0 + a1\n",
    "print(c, type(a0), type(a1))"
   ]
  },
  {
   "cell_type": "markdown",
   "metadata": {},
   "source": [
    "Oops! This is not what you expected! c is not a + b = [5, 7, 9]. Why not? Well, you used lists (try type(a0), type(a1)). We need to tell Python it should interpret the lists as arrays!"
   ]
  },
  {
   "cell_type": "code",
   "execution_count": 64,
   "metadata": {
    "collapsed": false
   },
   "outputs": [
    {
     "name": "stdout",
     "output_type": "stream",
     "text": [
      "('c0 = ', array([5, 7, 9]))\n",
      "('c1 = ', array([5, 7, 9]))\n"
     ]
    }
   ],
   "source": [
    "# Make Python understand that we're working with numbers. Convert lists to arrays\n",
    "a0_array = np.array(a0)\n",
    "a1_array = np.array(a1)\n",
    "\n",
    "# No what's the output?\n",
    "c0 = np.array(a0_array) + np.array(a1_array)\n",
    "print('c0 = ', c0)\n",
    "\n",
    "# This also seems to work, even though we use the lists. Why?\n",
    "c1 = np.add(a0,a1)\n",
    "print('c1 = ', c0)"
   ]
  },
  {
   "cell_type": "code",
   "execution_count": null,
   "metadata": {
    "collapsed": true
   },
   "outputs": [],
   "source": []
  }
 ],
 "metadata": {
  "kernelspec": {
   "display_name": "Python [default]",
   "language": "python",
   "name": "python2"
  },
  "language_info": {
   "codemirror_mode": {
    "name": "ipython",
    "version": 2
   },
   "file_extension": ".py",
   "mimetype": "text/x-python",
   "name": "python",
   "nbconvert_exporter": "python",
   "pygments_lexer": "ipython2",
   "version": "2.7.13"
  }
 },
 "nbformat": 4,
 "nbformat_minor": 0
}
