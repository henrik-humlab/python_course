{
 "cells": [
  {
   "cell_type": "markdown",
   "metadata": {
    "slideshow": {
     "slide_type": "slide"
    }
   },
   "source": [
    "# Lecture notes from first week\n",
    "Programming for the Behavioral Sciences"
   ]
  },
  {
   "cell_type": "markdown",
   "metadata": {
    "collapsed": true
   },
   "source": [
    "This week, basic concepts in Python is introducted. These concepts are key to understanding the rest of the course, so make sure you understand everything presented here! This code can be run in Spyder's iPython console.\n",
    "\n",
    "There are many good places to get more information and examples, e.g.,\n",
    "http://nbviewer.jupyter.org/github/jrjohansson/scientific-python-lectures/blob/master/Lecture-1-Introduction-to-Python-Programming.ipynb\n",
    "\n"
   ]
  },
  {
   "cell_type": "markdown",
   "metadata": {},
   "source": [
    "### Variables and data types\n",
    "A variable is used to store information. It can be \n",
    "thought of as a 'container' used to refer to label and \n",
    "refer to information while programming"
   ]
  },
  {
   "cell_type": "code",
   "execution_count": 1,
   "metadata": {
    "collapsed": false
   },
   "outputs": [],
   "source": [
    "# Variables x, y, a, b, s\n",
    "x = 2\n",
    "y = 17.0\n",
    "a = [2, 3, 4] # A list of length 3\n",
    "b = True      # True or false\n",
    "s = 'hej'\n",
    "t = (2, 4) # A tuple. Like a list, but cannot be modified"
   ]
  },
  {
   "cell_type": "markdown",
   "metadata": {},
   "source": [
    "So, above we have variables of different types. What are these types and how are they different?\n",
    "You can read more about data types here:\n",
    "https://www.tutorialspoint.com/python/python_variable_types.htm"
   ]
  },
  {
   "cell_type": "code",
   "execution_count": 2,
   "metadata": {
    "collapsed": false
   },
   "outputs": [
    {
     "data": {
      "text/plain": [
       "(int, float, list, bool, str, tuple)"
      ]
     },
     "execution_count": 2,
     "metadata": {},
     "output_type": "execute_result"
    }
   ],
   "source": [
    "type(x), type(y), type(a), type(b), type(s), type(t)\n",
    "\n"
   ]
  },
  {
   "cell_type": "markdown",
   "metadata": {},
   "source": [
    "We can also use the 'magic command' whos to get information about all variables currently in use"
   ]
  },
  {
   "cell_type": "code",
   "execution_count": 3,
   "metadata": {
    "collapsed": false
   },
   "outputs": [
    {
     "name": "stdout",
     "output_type": "stream",
     "text": [
      "Variable   Type     Data/Info\n",
      "-----------------------------\n",
      "a          list     n=3\n",
      "b          bool     True\n",
      "s          str      hej\n",
      "t          tuple    n=2\n",
      "x          int      2\n",
      "y          float    17.0\n"
     ]
    }
   ],
   "source": [
    "%whos"
   ]
  },
  {
   "cell_type": "markdown",
   "metadata": {},
   "source": [
    "## Variable operations"
   ]
  },
  {
   "cell_type": "markdown",
   "metadata": {},
   "source": [
    "Now lets try to use the above variables to understand what they do."
   ]
  },
  {
   "cell_type": "code",
   "execution_count": 4,
   "metadata": {
    "collapsed": false
   },
   "outputs": [
    {
     "name": "stdout",
     "output_type": "stream",
     "text": [
      "19.0\n"
     ]
    }
   ],
   "source": [
    "# Let's add two variable and print the result\n",
    "z = x + y\n",
    "print(z)"
   ]
  },
  {
   "cell_type": "markdown",
   "metadata": {},
   "source": [
    "The output is a float? Why? We added a integer and a float? If both are integers, the output will also be an integer. \n",
    "Let's consider this example:"
   ]
  },
  {
   "cell_type": "code",
   "execution_count": 5,
   "metadata": {
    "collapsed": false
   },
   "outputs": [
    {
     "name": "stdout",
     "output_type": "stream",
     "text": [
      "(2, 2.2)\n"
     ]
    }
   ],
   "source": [
    "z1 = 11 / 5   # dividing two integers\n",
    "z2 = 11 / 5.0 # dividing an integer with a float\n",
    "print(z1, z2)"
   ]
  },
  {
   "cell_type": "markdown",
   "metadata": {},
   "source": [
    "Dividing two integers will only return an integer. Common thing that may make cause a problem! Remember to make a least one of them a float."
   ]
  },
  {
   "cell_type": "markdown",
   "metadata": {},
   "source": [
    "Can we add other variable types as well?"
   ]
  },
  {
   "cell_type": "code",
   "execution_count": 6,
   "metadata": {
    "collapsed": false
   },
   "outputs": [
    {
     "data": {
      "text/plain": [
       "([2, 3, 4, 2, 3, 4], [2, 3, 4, 2, 3, 4, 2, 3, 4])"
      ]
     },
     "execution_count": 6,
     "metadata": {},
     "output_type": "execute_result"
    }
   ],
   "source": [
    "a + a,  a*3"
   ]
  },
  {
   "cell_type": "code",
   "execution_count": 7,
   "metadata": {
    "collapsed": false
   },
   "outputs": [
    {
     "ename": "TypeError",
     "evalue": "can only concatenate list (not \"tuple\") to list",
     "output_type": "error",
     "traceback": [
      "\u001b[0;31m---------------------------------------------------------------------------\u001b[0m",
      "\u001b[0;31mTypeError\u001b[0m                                 Traceback (most recent call last)",
      "\u001b[0;32m<ipython-input-7-2fb5614338c4>\u001b[0m in \u001b[0;36m<module>\u001b[0;34m()\u001b[0m\n\u001b[1;32m      1\u001b[0m \u001b[1;31m# This will give you an error, since your trying to add a list a = [2, 3, 4] with a tuple t = (2, 4)\u001b[0m\u001b[1;33m\u001b[0m\u001b[1;33m\u001b[0m\u001b[0m\n\u001b[0;32m----> 2\u001b[0;31m \u001b[0ma\u001b[0m \u001b[1;33m+\u001b[0m \u001b[0mt\u001b[0m\u001b[1;33m\u001b[0m\u001b[0m\n\u001b[0m",
      "\u001b[0;31mTypeError\u001b[0m: can only concatenate list (not \"tuple\") to list"
     ]
    }
   ],
   "source": [
    "# This will give you an error, since your trying to add a list a = [2, 3, 4] with a tuple t = (2, 4)\n",
    "a + t"
   ]
  },
  {
   "cell_type": "code",
   "execution_count": 8,
   "metadata": {
    "collapsed": false
   },
   "outputs": [
    {
     "name": "stdout",
     "output_type": "stream",
     "text": [
      "5\n",
      "(4, 2)\n"
     ]
    }
   ],
   "source": [
    "# Remember, Python starts to count from zero, x[0] refers the first element of x. x[-1] refers to the last element of x\n",
    "print(t[0] + a[1])\n",
    "print(t[-1], x)"
   ]
  },
  {
   "cell_type": "markdown",
   "metadata": {},
   "source": [
    "How can we use boolean variables then, and what do they mean?"
   ]
  },
  {
   "cell_type": "code",
   "execution_count": 9,
   "metadata": {
    "collapsed": false
   },
   "outputs": [
    {
     "name": "stdout",
     "output_type": "stream",
     "text": [
      "False\n",
      "True\n",
      "True\n",
      "False\n"
     ]
    }
   ],
   "source": [
    "# Is this true? Notice the double equal sign for comparisons\n",
    "print(1==2)\n",
    "print(7==7)\n",
    "print(b is True)\n",
    "print(b is not True)"
   ]
  },
  {
   "cell_type": "markdown",
   "metadata": {},
   "source": [
    "### Lists\n",
    "List a important and general data containers used heavily in Python. A list can contant pretty much any variable type. You can mix integers, floats, strings, and other lists."
   ]
  },
  {
   "cell_type": "code",
   "execution_count": 10,
   "metadata": {
    "collapsed": false
   },
   "outputs": [
    {
     "name": "stdout",
     "output_type": "stream",
     "text": [
      "(['a', 1], 2)\n"
     ]
    }
   ],
   "source": [
    "l = ['a']        # make a list containing one element (a string 'a')\n",
    "l.append(1)      # Append the integer 1 to the list\n",
    "print(l, len(l)) # Print the list and its length"
   ]
  },
  {
   "cell_type": "code",
   "execution_count": 11,
   "metadata": {
    "collapsed": false
   },
   "outputs": [
    {
     "name": "stdout",
     "output_type": "stream",
     "text": [
      "[0, 1, 2, 3, 4, 5, 6, 7, 8, 9, 10, 11, 12, 13, 14, 15, 16, 17, 18, 19]\n",
      "[10, 12, 14, 16, 18]\n",
      "\n",
      "[]\n"
     ]
    }
   ],
   "source": [
    "another_list = range(20) # Make a list with 20 elements from 0 to 19\n",
    "\n",
    "# Make a denser list\n",
    "start = 10\n",
    "stop = 20\n",
    "step = 2\n",
    "another_list_subsamples = range(start, stop, step)\n",
    "\n",
    "# Convert a string to a list\n",
    "s = ''\n",
    "string_converted_to_list = list(s)\n",
    "\n",
    "# Print all the above in the cell\n",
    "print(another_list)\n",
    "print(another_list_subsamples)\n",
    "print(s)\n",
    "print(string_converted_to_list)\n"
   ]
  },
  {
   "cell_type": "markdown",
   "metadata": {},
   "source": [
    "### Strings\n",
    "Strings are used to deal with text and letters. \n",
    "More info here\n",
    "https://www.tutorialspoint.com/python/python_strings.htm"
   ]
  },
  {
   "cell_type": "code",
   "execution_count": 12,
   "metadata": {
    "collapsed": false
   },
   "outputs": [
    {
     "name": "stdout",
     "output_type": "stream",
     "text": [
      "('hi there', 'hi,there,!')\n"
     ]
    }
   ],
   "source": [
    "# We have an example string defined above s = 'hi'. Let's defind another one s2 = 'there'\n",
    "s0 = 'hi' # You can use both single (') and double (\") quotation marks to define string\n",
    "s1 = 'there'\n",
    "\n",
    "sentence0 = ' '.join([s0, s1]) # join the two strings with a space\n",
    "sentence1 = ','.join([s0, s1, '!']) # join the two strings with a comma (,)\n",
    "\n",
    "# Print the output\n",
    "print(sentence0, sentence1)"
   ]
  },
  {
   "cell_type": "markdown",
   "metadata": {},
   "source": [
    "### Numpy arrays\n",
    "Arrays are data containers for numbers. <a href=\"http://www.numpy.org/\">NumPy</a> (numerical python) is a package for dealing with numbers and arrays. It's not part of \"core\" Python, so to use it, we have to start by importing it. After importing numpy, type 'np.' followed by the tab-key. Then the commands available in the NumPy package becomes visible in a drop-down-list."
   ]
  },
  {
   "cell_type": "code",
   "execution_count": 13,
   "metadata": {
    "collapsed": true
   },
   "outputs": [],
   "source": [
    "import numpy as np # Import numpy. Now we can use the Numpy functionalities by its abbriviated name np (this choice is arbitrary)"
   ]
  },
  {
   "cell_type": "code",
   "execution_count": 14,
   "metadata": {
    "collapsed": false
   },
   "outputs": [
    {
     "name": "stdout",
     "output_type": "stream",
     "text": [
      "([1, 2, 3, 4, 5, 6], <type 'list'>, <type 'list'>)\n"
     ]
    }
   ],
   "source": [
    "# Start by defining some numbers to work with\n",
    "a0 = [1,2,3]\n",
    "a1 = [4,5,6]\n",
    "\n",
    "# What would you expect if you added a + b\n",
    "c = a0 + a1\n",
    "print(c, type(a0), type(a1))"
   ]
  },
  {
   "cell_type": "markdown",
   "metadata": {},
   "source": [
    "Oops! This is not what you expected! c is not a + b = [5, 7, 9]. Why not? Well, you used lists (try type(a0), type(a1)). We need to tell Python it should interpret the lists as arrays!"
   ]
  },
  {
   "cell_type": "code",
   "execution_count": 15,
   "metadata": {
    "collapsed": false
   },
   "outputs": [
    {
     "name": "stdout",
     "output_type": "stream",
     "text": [
      "('c0 = ', array([5, 7, 9]))\n",
      "('c1 = ', array([5, 7, 9]))\n"
     ]
    }
   ],
   "source": [
    "# Make Python understand that we're working with numbers. Convert lists to arrays\n",
    "a0_array = np.array(a0)\n",
    "a1_array = np.array(a1)\n",
    "\n",
    "# No what's the output?\n",
    "c0 = np.array(a0_array) + np.array(a1_array)\n",
    "print('c0 = ', c0)\n",
    "\n",
    "# This also seems to work, even though we use the lists. Why?\n",
    "c1 = np.add(a0,a1)\n",
    "print('c1 = ', c0)"
   ]
  },
  {
   "cell_type": "markdown",
   "metadata": {
    "collapsed": true
   },
   "source": [
    "Let's move on to some useful examples of array generation and manipulation"
   ]
  },
  {
   "cell_type": "code",
   "execution_count": 16,
   "metadata": {
    "collapsed": false
   },
   "outputs": [
    {
     "name": "stdout",
     "output_type": "stream",
     "text": [
      "[9 1 3 0 6 5 8 6 0 3]\n",
      "(9, array([9, 1]), 3, array([1, 0, 5]))\n"
     ]
    }
   ],
   "source": [
    "# Generate an array with 10 random integers between 0 and 9\n",
    "a = np.random.randint(0,10,10)\n",
    "print(a)\n",
    "\n",
    "# 'Slicing' an array means to select values from a range within the array\n",
    "#The basic slice syntax is i:j:k where i is the starting index, j is the stopping index, and k is the step\n",
    "a[0]    # Selects first element\n",
    "a[0:2]  # Selects first two elements. Note that the value at index 2 is not taken, just values at indeces 0 and 1\n",
    "a[-1]   # Selects last element\n",
    "a[1:7:2]# Selects every second values from index 1 to 7\n",
    "print(a[0], a[0:2], a[-1], a[1:7:2])"
   ]
  },
  {
   "cell_type": "markdown",
   "metadata": {},
   "source": [
    "As you can see, this is similar to the operations we performed on the lists."
   ]
  },
  {
   "cell_type": "code",
   "execution_count": 17,
   "metadata": {
    "collapsed": false
   },
   "outputs": [],
   "source": [
    "# Even more examples on how you can select elements from an array\n",
    "a[np.array([0,1,-2,-1])] # Two first and two last\n",
    "a[a < 5] # Returns all values where a is less than 5\n",
    "boolean_vector = a < 5\n",
    "np.where(a < 5) # Positions were a < 5\n",
    "values_less_than_5, positions_where_values_are_less_than_5 = a[a < 5], np.where(a < 5)\n",
    "\n",
    "#  Two dimensional arrays, selection\n",
    "v = np.random.randint(0,10,(4,5))\n",
    "v = np.random.randint(0,10,10) # random integers between 0 and 9 of lengt 10"
   ]
  },
  {
   "cell_type": "code",
   "execution_count": 18,
   "metadata": {
    "collapsed": false
   },
   "outputs": [
    {
     "name": "stdout",
     "output_type": "stream",
     "text": [
      "(array([1, 3, 0, 0, 3]), (array([1, 2, 3, 8, 9], dtype=int64),))\n"
     ]
    }
   ],
   "source": [
    "print(values_less_than_5, positions_where_values_are_less_than_5)"
   ]
  },
  {
   "cell_type": "markdown",
   "metadata": {},
   "source": [
    "### For-loops\n",
    "For-loops are used to repeat some code a number of time. For instance, iterate over an array, list, over files in a folder, etc."
   ]
  },
  {
   "cell_type": "code",
   "execution_count": 20,
   "metadata": {
    "collapsed": false
   },
   "outputs": [
    {
     "name": "stdout",
     "output_type": "stream",
     "text": [
      "0\n",
      "1\n",
      "2\n",
      "3\n",
      "4\n",
      "5\n",
      "6\n",
      "7\n",
      "8\n",
      "9\n"
     ]
    }
   ],
   "source": [
    "# A very simple for-loop (the letter 'i' is often used as a counter)\n",
    "for i in range(10):\n",
    "    print(i)"
   ]
  },
  {
   "cell_type": "code",
   "execution_count": 40,
   "metadata": {
    "collapsed": false
   },
   "outputs": [
    {
     "name": "stdout",
     "output_type": "stream",
     "text": [
      "P\n",
      "g\n",
      "p\n",
      "o\n",
      "e\n",
      "n\n",
      "r\n"
     ]
    }
   ],
   "source": [
    "# loop over a letter string\n",
    "letter_string = 'Programming is an important tool for researchers in behaviour sciences'\n",
    "\n",
    "# Print every 10th letter\n",
    "for letter in letter_string[slice(0, len(letter_string), 10)]:\n",
    "    print(letter)"
   ]
  },
  {
   "cell_type": "code",
   "execution_count": 42,
   "metadata": {
    "collapsed": false
   },
   "outputs": [
    {
     "name": "stdout",
     "output_type": "stream",
     "text": [
      "(['a', 'b', 'c', 'd', 'e', 'f', 'g', 'h', 'i', 'j', 'k', 'l', 'm', 'n', 'o', 'p', 'q', 'r', 's', 't', 'u', 'v', 'x', 'y', 'z'], ['a', 'b', 'c', 'd', 'e', 'f', 'g', 'h', 'i', 'j', 'k', 'l', 'm', 'n', 'o', 'p', 'q', 'r', 's', 't', 'u', 'v', 'y', 'z'])\n"
     ]
    }
   ],
   "source": [
    "# Make list of the letters in the alphabet\n",
    "alphabet = 'abcdefghijklmnopqrstuvxyz'\n",
    "\n",
    "# first way\n",
    "L1 = list(alphabet)\n",
    "\n",
    "# Second way (using for loop)\n",
    "L2 = []\n",
    "for l in alphabet:\n",
    "    \n",
    "    # I don't like the letter x, so let's exclude it from the list\n",
    "    if l != 'x': # != means NOT equal to\n",
    "        L2.append(l)\n",
    "\n",
    "print(L1, L2)"
   ]
  },
  {
   "cell_type": "code",
   "execution_count": 32,
   "metadata": {
    "collapsed": false
   },
   "outputs": [],
   "source": []
  },
  {
   "cell_type": "code",
   "execution_count": null,
   "metadata": {
    "collapsed": true
   },
   "outputs": [],
   "source": []
  }
 ],
 "metadata": {
  "kernelspec": {
   "display_name": "Python [default]",
   "language": "python",
   "name": "python2"
  },
  "language_info": {
   "codemirror_mode": {
    "name": "ipython",
    "version": 2
   },
   "file_extension": ".py",
   "mimetype": "text/x-python",
   "name": "python",
   "nbconvert_exporter": "python",
   "pygments_lexer": "ipython2",
   "version": "2.7.13"
  }
 },
 "nbformat": 4,
 "nbformat_minor": 0
}
